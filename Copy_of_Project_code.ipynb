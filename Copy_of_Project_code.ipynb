{
  "cells": [
    {
      "cell_type": "code",
      "execution_count": null,
      "metadata": {
        "colab": {
          "base_uri": "https://localhost:8080/"
        },
        "id": "zUcNqdoCMct4",
        "outputId": "bcb8f83d-fcfd-4bdc-a273-e301e41808ab"
      },
      "outputs": [
        {
          "name": "stdout",
          "output_type": "stream",
          "text": [
            "Drive already mounted at /content/drive; to attempt to forcibly remount, call drive.mount(\"/content/drive\", force_remount=True).\n"
          ]
        }
      ],
      "source": [
        "\n",
        "\n",
        "\n"
      ]
    },
    {
      "cell_type": "code",
      "execution_count": 1,
      "metadata": {
        "colab": {
          "base_uri": "https://localhost:8080/"
        },
        "id": "87fgKjxvOj7-",
        "outputId": "05e7c72d-2dea-450f-bae2-1c6d7d5ab188"
      },
      "outputs": [
        {
          "name": "stdout",
          "output_type": "stream",
          "text": [
            "Dataset saved to Google Drive at:  skincare_recommendations.csv\n",
            "   Pigmentation_Level Hydration_Level Oily_Level Recommended_Skincare_Product\n",
            "0                High            High        Low            Brightening Serum\n",
            "1                 Low            High     Medium              Balancing Cream\n",
            "2                High            High        Low            Brightening Serum\n",
            "3                High             Low     Medium             Anti-Aging Serum\n",
            "4                 Low            High     Medium              Balancing Cream\n",
            "..                ...             ...        ...                          ...\n",
            "95                Low          Medium     Medium              Balancing Cream\n",
            "96                Low            High     Medium              Balancing Cream\n",
            "97               High            High     Medium            Brightening Serum\n",
            "98                Low          Medium     Medium              Balancing Cream\n",
            "99                Low             Low     Medium              Balancing Cream\n",
            "\n",
            "[100 rows x 4 columns]\n"
          ]
        }
      ],
      "source": [
        "# Import necessary libraries\n",
        "import pandas as pd\n",
        "import numpy as np\n",
        "\n",
        "# Mount Google Drive to save the file directly in your Drive\n",
        "\n",
        "# Define the path where you want to save the CSV file on your Google Drive\n",
        "file_path = 'skincare_recommendations.csv'  # You can change the folder name here\n",
        "\n",
        "# Generate synthetic data for 100 samples\n",
        "np.random.seed(42)\n",
        "\n",
        "# Defining categories for each feature\n",
        "pigmentation_levels = ['Low', 'Medium', 'High']\n",
        "hydration_levels = ['Low', 'Medium', 'High']\n",
        "oily_levels = ['Low', 'Medium', 'High']\n",
        "\n",
        "# Generate random data\n",
        "pigmentation = np.random.choice(pigmentation_levels, 100)\n",
        "hydration = np.random.choice(hydration_levels, 100)\n",
        "oily = np.random.choice(oily_levels, 100)\n",
        "\n",
        "# Generate recommended product category based on conditions\n",
        "def recommend_product(pigmentation, hydration, oily):\n",
        "    if hydration == 'Low' and oily == 'Low':\n",
        "        return 'Moisturizing Cream'\n",
        "    elif hydration == 'High' and oily == 'High':\n",
        "        return 'Oil-Free Gel'\n",
        "    elif pigmentation == 'High' and hydration == 'High':\n",
        "        return 'Brightening Serum'\n",
        "    elif oily == 'High' and pigmentation == 'Medium':\n",
        "        return 'Acne Treatment Gel'\n",
        "    elif pigmentation == 'High' and hydration == 'Low':\n",
        "        return 'Anti-Aging Serum'\n",
        "    elif oily == 'Medium':\n",
        "        return 'Balancing Cream'\n",
        "    else:\n",
        "        return 'Gentle Cleanser'\n",
        "\n",
        "# Generate skincare recommendations\n",
        "recommendations = [recommend_product(p, h, o) for p, h, o in zip(pigmentation, hydration, oily)]\n",
        "\n",
        "# Create the dataframe\n",
        "data = pd.DataFrame({\n",
        "    'Pigmentation_Level': pigmentation,\n",
        "    'Hydration_Level': hydration,\n",
        "    'Oily_Level': oily,\n",
        "    'Recommended_Skincare_Product': recommendations\n",
        "})\n",
        "\n",
        "# Save to CSV in your Google Drive\n",
        "data.to_csv(file_path, index=False)\n",
        "\n",
        "# Display the first few rows of the dataset\n",
        "print(\"Dataset saved to Google Drive at: \", file_path)\n",
        "print(data.head(100))  # Show first few rows of the dataset for confirmation\n"
      ]
    },
    {
      "cell_type": "code",
      "execution_count": 3,
      "metadata": {
        "colab": {
          "base_uri": "https://localhost:8080/"
        },
        "id": "EDl5nyRZPI0l",
        "outputId": "353c14d5-06c9-4dab-8d29-37fc697e6795"
      },
      "outputs": [
        {
          "name": "stdout",
          "output_type": "stream",
          "text": [
            "Dataset loaded successfully:\n",
            "  Pigmentation_Level Hydration_Level Oily_Level Recommended_Skincare_Product\n",
            "0               High            High        Low            Brightening Serum\n",
            "1                Low            High     Medium              Balancing Cream\n",
            "2               High            High        Low            Brightening Serum\n",
            "3               High             Low     Medium             Anti-Aging Serum\n",
            "4                Low            High     Medium              Balancing Cream\n",
            "Dataset with Skin Type classification:\n",
            "  Pigmentation_Level Hydration_Level Oily_Level               Skin_Type\n",
            "0               High            High        Low          Dry, Pigmented\n",
            "1                Low            High     Medium  Combination, Sensitive\n",
            "2               High            High        Low          Dry, Pigmented\n",
            "3               High             Low     Medium                  Normal\n",
            "4                Low            High     Medium  Combination, Sensitive\n",
            "Dataset with Skincare Product Recommendations:\n",
            "  Pigmentation_Level Hydration_Level Oily_Level               Skin_Type  \\\n",
            "0               High            High        Low          Dry, Pigmented   \n",
            "1                Low            High     Medium  Combination, Sensitive   \n",
            "2               High            High        Low          Dry, Pigmented   \n",
            "3               High             Low     Medium                  Normal   \n",
            "4                Low            High     Medium  Combination, Sensitive   \n",
            "\n",
            "                        Recommended_Skincare_Product  \n",
            "0         Estée Lauder - Advanced Night Repair Serum  \n",
            "1                        Clarins - Gentle Exfoliator  \n",
            "2         Estée Lauder - Advanced Night Repair Serum  \n",
            "3  Dr. Dennis Gross - C+ Collagen Brighten & Firm...  \n",
            "4                        Clarins - Gentle Exfoliator  \n",
            "Dataset with skincare recommendations has been saved to: skincare_recommendations_with_products.csv\n"
          ]
        }
      ],
      "source": [
        "import pandas as pd\n",
        "import numpy as np\n",
        "\n",
        "# Step 1: Mount Google Drive to access the file\n",
        "\n",
        "# Step 2: Define the path where the file is stored in Google Drive\n",
        "# Change this to match your actual file location in Google Drive\n",
        "file_path = 'skincare_recommendations.csv'\n",
        "\n",
        "# Step 3: Load the dataset from the CSV file stored in Google Drive\n",
        "data = pd.read_csv(file_path)\n",
        "\n",
        "# Display the first few rows of the dataset to ensure it has loaded correctly\n",
        "print(\"Dataset loaded successfully:\")\n",
        "print(data.head())\n",
        "\n",
        "# Step 4: Define a function to classify skin type based on Pigmentation, Hydration, and Oily levels\n",
        "def classify_skin_type(row):\n",
        "    pigmentation = row['Pigmentation_Level']\n",
        "    hydration = row['Hydration_Level']\n",
        "    oily = row['Oily_Level']\n",
        "\n",
        "    # Classify skin type based on combinations of Pigmentation, Hydration, and Oily levels\n",
        "    if pigmentation == 'High' and hydration == 'Low' and oily == 'High':\n",
        "        return 'Oily, Pigmented'\n",
        "    elif pigmentation == 'High' and hydration == 'High' and oily == 'Low':\n",
        "        return 'Dry, Pigmented'\n",
        "    elif pigmentation == 'Low' and hydration == 'High' and oily == 'Low':\n",
        "        return 'Dry, Sensitive'\n",
        "    elif pigmentation == 'Low' and hydration == 'Medium' and oily == 'Medium':\n",
        "        return 'Combination, Sensitive'\n",
        "    elif pigmentation == 'Low' and hydration == 'High' and oily == 'Medium':\n",
        "        return 'Combination, Sensitive'\n",
        "    elif pigmentation == 'Medium' and hydration == 'Medium' and oily == 'Low':\n",
        "        return 'Normal, Balanced'\n",
        "    elif pigmentation == 'Medium' and hydration == 'High' and oily == 'Medium':\n",
        "        return 'Combination, Balanced'\n",
        "    elif pigmentation == 'Medium' and hydration == 'Medium' and oily == 'High':\n",
        "        return 'Oily, Balanced'\n",
        "    else:\n",
        "        return 'Normal'\n",
        "\n",
        "# Step 5: Apply the `classify_skin_type` function to the dataset to classify each row\n",
        "data['Skin_Type'] = data.apply(classify_skin_type, axis=1)\n",
        "\n",
        "# Display the dataset with the new 'Skin_Type' column\n",
        "print(\"Dataset with Skin Type classification:\")\n",
        "print(data[['Pigmentation_Level', 'Hydration_Level', 'Oily_Level', 'Skin_Type']].head())\n",
        "\n",
        "# Step 6: Recommend high-end skincare products based on skin type classification\n",
        "def recommend_premium_products(skin_type):\n",
        "    # Define high-end product recommendations based on skin type\n",
        "    recommendations = {\n",
        "        'Oily, Pigmented': 'La Mer - The Oil Absorbing Lotion',\n",
        "        'Dry, Pigmented': 'Estée Lauder - Advanced Night Repair Serum',\n",
        "        'Dry, Sensitive': 'Chanel - Hydra Beauty Micro Sérum',\n",
        "        'Combination, Sensitive': 'Clarins - Gentle Exfoliator',\n",
        "        'Combination, Balanced': 'Sisley - Hydrating Anti-Aging Serum',\n",
        "        'Normal, Balanced': 'La Mer - The Revitalizing Hydrating Cream',\n",
        "        'Oily, Balanced': 'Kiehl\\'s - Ultra Facial Oil-Free Gel Cream',\n",
        "        'Normal': 'Dr. Dennis Gross - C+ Collagen Brighten & Firm Vitamin C Serum'\n",
        "    }\n",
        "\n",
        "    # Return the recommended product based on skin type\n",
        "    return recommendations.get(skin_type, 'Generic Skin Care Product')\n",
        "\n",
        "# Step 7: Apply the `recommend_premium_products` function to the 'Skin_Type' column\n",
        "data['Recommended_Skincare_Product'] = data['Skin_Type'].apply(recommend_premium_products)\n",
        "\n",
        "# Step 8: Show the dataset with recommended skincare products\n",
        "print(\"Dataset with Skincare Product Recommendations:\")\n",
        "print(data[['Pigmentation_Level', 'Hydration_Level', 'Oily_Level', 'Skin_Type', 'Recommended_Skincare_Product']].head())\n",
        "\n",
        "# Step 9: Save the modified dataset (with skin type and recommended products) to a new CSV file\n",
        "output_file_path = 'skincare_recommendations_with_products.csv'\n",
        "data.to_csv(output_file_path, index=False)\n",
        "\n",
        "# Step 10: Confirm that the new file was saved\n",
        "print(f\"Dataset with skincare recommendations has been saved to: {output_file_path}\")\n"
      ]
    },
    {
      "cell_type": "code",
      "execution_count": 4,
      "metadata": {},
      "outputs": [],
      "source": [
        "import pandas as pd"
      ]
    },
    {
      "cell_type": "code",
      "execution_count": 5,
      "metadata": {},
      "outputs": [],
      "source": [
        "df=pd.read_csv('MP-Skin Care Product Recommendation System3.csv')"
      ]
    },
    {
      "cell_type": "code",
      "execution_count": 8,
      "metadata": {},
      "outputs": [
        {
          "data": {
            "text/html": [
              "<div>\n",
              "<style scoped>\n",
              "    .dataframe tbody tr th:only-of-type {\n",
              "        vertical-align: middle;\n",
              "    }\n",
              "\n",
              "    .dataframe tbody tr th {\n",
              "        vertical-align: top;\n",
              "    }\n",
              "\n",
              "    .dataframe thead th {\n",
              "        text-align: right;\n",
              "    }\n",
              "</style>\n",
              "<table border=\"1\" class=\"dataframe\">\n",
              "  <thead>\n",
              "    <tr style=\"text-align: right;\">\n",
              "      <th></th>\n",
              "      <th>product_href</th>\n",
              "      <th>product_name</th>\n",
              "      <th>product_type</th>\n",
              "      <th>brand</th>\n",
              "      <th>notable_effects</th>\n",
              "      <th>skintype</th>\n",
              "      <th>price</th>\n",
              "      <th>description</th>\n",
              "      <th>picture_src</th>\n",
              "    </tr>\n",
              "  </thead>\n",
              "  <tbody>\n",
              "    <tr>\n",
              "      <th>0</th>\n",
              "      <td>https://www.beautyhaul.com/product/detail/bubb...</td>\n",
              "      <td>ACWELL Bubble Free PH Balancing Cleanser</td>\n",
              "      <td>Face Wash</td>\n",
              "      <td>ACWELL</td>\n",
              "      <td>Acne-Free, Pore-Care, Brightening, Anti-Aging</td>\n",
              "      <td>Oily</td>\n",
              "      <td>Rp 209.000</td>\n",
              "      <td>Mengangkat kotoran dan menghapus makeup dalam ...</td>\n",
              "      <td>https://www.beautyhaul.com/assets/uploads/prod...</td>\n",
              "    </tr>\n",
              "    <tr>\n",
              "      <th>1</th>\n",
              "      <td>https://www.sociolla.com/face-wash/62452-ph-ba...</td>\n",
              "      <td>ACWELL pH Balancing Soothing Cleansing Foam</td>\n",
              "      <td>Face Wash</td>\n",
              "      <td>ACWELL</td>\n",
              "      <td>Soothing, Balancing</td>\n",
              "      <td>Normal, Dry, Combination</td>\n",
              "      <td>Rp 181.800</td>\n",
              "      <td>Membersihkan dan menenangkan kulit sensitif de...</td>\n",
              "      <td>https://images.soco.id/8f08ced0-344d-41f4-a15e...</td>\n",
              "    </tr>\n",
              "    <tr>\n",
              "      <th>2</th>\n",
              "      <td>https://www.sociolla.com/toner/15871-licorice-...</td>\n",
              "      <td>Acwell Licorice pH Balancing Cleansing Toner</td>\n",
              "      <td>Toner</td>\n",
              "      <td>ACWELL</td>\n",
              "      <td>Soothing, Balancing</td>\n",
              "      <td>Normal, Dry, Oily, Combination, Sensitive</td>\n",
              "      <td>Rp 149.000</td>\n",
              "      <td>Mengangkat sisa kotoran, debu, dan make up sek...</td>\n",
              "      <td>https://www.soco.id/cdn-cgi/image/w=73,format=...</td>\n",
              "    </tr>\n",
              "    <tr>\n",
              "      <th>3</th>\n",
              "      <td>https://www.beautyhaul.com/product/detail/aqua...</td>\n",
              "      <td>ACWELL Aquaseal Soothing Tonic</td>\n",
              "      <td>Toner</td>\n",
              "      <td>ACWELL</td>\n",
              "      <td>Acne-Free, Pore-Care, Brightening, Anti-Aging</td>\n",
              "      <td>Oily</td>\n",
              "      <td>Rp 290.000</td>\n",
              "      <td>Pre-essence yang diformulasikan dengan ekstrak...</td>\n",
              "      <td>https://www.beautyhaul.com/assets/uploads/prod...</td>\n",
              "    </tr>\n",
              "    <tr>\n",
              "      <th>4</th>\n",
              "      <td>https://www.sociolla.com/essence/38023-licoric...</td>\n",
              "      <td>Licorice pH Balancing Essence Mist</td>\n",
              "      <td>Toner</td>\n",
              "      <td>ACWELL</td>\n",
              "      <td>Brightening, Soothing</td>\n",
              "      <td>Normal, Dry</td>\n",
              "      <td>Rp 194.650</td>\n",
              "      <td>Essens mist dengan kelembapan tinggi yang memb...</td>\n",
              "      <td>https://www.sociolla.com/cdn-cgi/image/w=425,f...</td>\n",
              "    </tr>\n",
              "  </tbody>\n",
              "</table>\n",
              "</div>"
            ],
            "text/plain": [
              "                                        product_href  \\\n",
              "0  https://www.beautyhaul.com/product/detail/bubb...   \n",
              "1  https://www.sociolla.com/face-wash/62452-ph-ba...   \n",
              "2  https://www.sociolla.com/toner/15871-licorice-...   \n",
              "3  https://www.beautyhaul.com/product/detail/aqua...   \n",
              "4  https://www.sociolla.com/essence/38023-licoric...   \n",
              "\n",
              "                                    product_name product_type    brand  \\\n",
              "0       ACWELL Bubble Free PH Balancing Cleanser    Face Wash  ACWELL    \n",
              "1    ACWELL pH Balancing Soothing Cleansing Foam    Face Wash  ACWELL    \n",
              "2  Acwell Licorice pH Balancing Cleansing Toner         Toner  ACWELL    \n",
              "3                ACWELL Aquaseal Soothing Tonic         Toner  ACWELL    \n",
              "4             Licorice pH Balancing Essence Mist        Toner  ACWELL    \n",
              "\n",
              "                                 notable_effects  \\\n",
              "0  Acne-Free, Pore-Care, Brightening, Anti-Aging   \n",
              "1                            Soothing, Balancing   \n",
              "2                            Soothing, Balancing   \n",
              "3  Acne-Free, Pore-Care, Brightening, Anti-Aging   \n",
              "4                          Brightening, Soothing   \n",
              "\n",
              "                                    skintype       price  \\\n",
              "0                                       Oily  Rp 209.000   \n",
              "1                   Normal, Dry, Combination  Rp 181.800   \n",
              "2  Normal, Dry, Oily, Combination, Sensitive  Rp 149.000   \n",
              "3                                       Oily  Rp 290.000   \n",
              "4                                Normal, Dry  Rp 194.650   \n",
              "\n",
              "                                         description  \\\n",
              "0  Mengangkat kotoran dan menghapus makeup dalam ...   \n",
              "1  Membersihkan dan menenangkan kulit sensitif de...   \n",
              "2  Mengangkat sisa kotoran, debu, dan make up sek...   \n",
              "3  Pre-essence yang diformulasikan dengan ekstrak...   \n",
              "4  Essens mist dengan kelembapan tinggi yang memb...   \n",
              "\n",
              "                                         picture_src  \n",
              "0  https://www.beautyhaul.com/assets/uploads/prod...  \n",
              "1  https://images.soco.id/8f08ced0-344d-41f4-a15e...  \n",
              "2  https://www.soco.id/cdn-cgi/image/w=73,format=...  \n",
              "3  https://www.beautyhaul.com/assets/uploads/prod...  \n",
              "4  https://www.sociolla.com/cdn-cgi/image/w=425,f...  "
            ]
          },
          "execution_count": 8,
          "metadata": {},
          "output_type": "execute_result"
        }
      ],
      "source": [
        "df.head()"
      ]
    },
    {
      "cell_type": "code",
      "execution_count": 7,
      "metadata": {},
      "outputs": [
        {
          "data": {
            "text/plain": [
              "Index(['product_href', 'product_name', 'product_type', 'brand',\n",
              "       'notable_effects', 'skintype', 'price', 'description', 'picture_src'],\n",
              "      dtype='object')"
            ]
          },
          "execution_count": 7,
          "metadata": {},
          "output_type": "execute_result"
        }
      ],
      "source": [
        "df.columns\n"
      ]
    },
    {
      "cell_type": "code",
      "execution_count": 11,
      "metadata": {},
      "outputs": [
        {
          "data": {
            "text/plain": [
              "array(['Oily', 'Normal, Dry, Combination',\n",
              "       'Normal, Dry, Oily, Combination, Sensitive', 'Normal, Dry',\n",
              "       'Normal, Dry, Oily, Combination', 'Dry, Oily, Sensitive',\n",
              "       'Normal, Combination', 'Dry, Sensitive', 'Sensitive', 'Dry',\n",
              "       'Oily, Combination, Sensitive', 'Oily, Sensitive',\n",
              "       'Oily, Combination', 'Normal, Dry, Oily, Sensitive',\n",
              "       'Normal, Oily'], dtype=object)"
            ]
          },
          "execution_count": 11,
          "metadata": {},
          "output_type": "execute_result"
        }
      ],
      "source": [
        "df['skintype'].unique()"
      ]
    },
    {
      "cell_type": "code",
      "execution_count": 12,
      "metadata": {},
      "outputs": [
        {
          "data": {
            "text/plain": [
              "array(['Face Wash', 'Toner', 'Serum', 'Moisturizer', 'Sunscreen'],\n",
              "      dtype=object)"
            ]
          },
          "execution_count": 12,
          "metadata": {},
          "output_type": "execute_result"
        }
      ],
      "source": [
        "df['product_type'].unique()"
      ]
    }
  ],
  "metadata": {
    "colab": {
      "provenance": []
    },
    "kernelspec": {
      "display_name": "base",
      "language": "python",
      "name": "python3"
    },
    "language_info": {
      "codemirror_mode": {
        "name": "ipython",
        "version": 3
      },
      "file_extension": ".py",
      "mimetype": "text/x-python",
      "name": "python",
      "nbconvert_exporter": "python",
      "pygments_lexer": "ipython3",
      "version": "3.12.4"
    }
  },
  "nbformat": 4,
  "nbformat_minor": 0
}
